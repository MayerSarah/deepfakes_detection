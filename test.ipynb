{
 "cells": [
  {
   "cell_type": "code",
   "execution_count": null,
   "id": "ca7109b7-1ba0-49f5-b8b6-53c31189d7b9",
   "metadata": {},
   "outputs": [],
   "source": [
    "import tensorflow as tf\n",
    "from tensorflow.keras.models import Sequential\n",
    "from tensorflow.keras import layers\n",
    "from tensorflow.keras.layers import Dense, Activation, Conv2D, Flatten, Dropout, MaxPooling2D, BatchNormalization\n",
    "from tensorflow.keras.preprocessing.image import ImageDataGenerator\n",
    "from keras import regularizers, optimizers\n",
    "import os\n",
    "import numpy as np\n",
    "import matplotlib.pyplot as plt\n",
    "import pandas as pd\n",
    "import PIL\n",
    "\n",
    "import os\n",
    "os.environ['TF_CPP_MIN_LOG_LEVEL'] = '2'"
   ]
  },
  {
   "cell_type": "code",
   "execution_count": null,
   "id": "d93f0c63-b940-484f-b25b-22f5949ef9f9",
   "metadata": {},
   "outputs": [],
   "source": [
    "data_dir = \"../../hfactory_magic_folders/tooling_for_the_data_scientist/deepfakes_detection/images/\""
   ]
  },
  {
   "cell_type": "code",
   "execution_count": null,
   "id": "dba35e78-cb6d-4410-be30-ce118ec1f1c1",
   "metadata": {},
   "outputs": [],
   "source": [
    "traindf = pd.read_csv(\"../../hfactory_magic_folders/tooling_for_the_data_scientist/deepfakes_detection/train.csv\",dtype=str)\n",
    "traindf.loc[:, \"image_id\"] = traindf.loc[:, \"image_id\"] + \".jpg\"\n",
    "traindf"
   ]
  },
  {
   "cell_type": "code",
   "execution_count": null,
   "id": "7bb74002-023c-425f-8725-39a436b58df9",
   "metadata": {},
   "outputs": [],
   "source": [
    "traindf"
   ]
  },
  {
   "cell_type": "code",
   "execution_count": null,
   "id": "9706add4-3a75-469e-98ff-576370a69667",
   "metadata": {},
   "outputs": [],
   "source": [
    "datagen=ImageDataGenerator(rescale=1./255,\n",
    "                          validation_split=0.2,\n",
    ")\n",
    "\n",
    "train_generator=datagen.flow_from_dataframe(\n",
    "dataframe=traindf,\n",
    "directory=data_dir,\n",
    "x_col=\"image_id\",\n",
    "y_col=\"label\",\n",
    "subset='training',\n",
    "batch_size=32,\n",
    "seed=42,\n",
    "shuffle=True,\n",
    "class_mode=\"categorical\",\n",
    "target_size=(150, 150))\n",
    "\n",
    "validation_generator=datagen.flow_from_dataframe(\n",
    "dataframe=traindf,\n",
    "directory=data_dir,\n",
    "x_col=\"image_id\",\n",
    "y_col=\"label\",\n",
    "subset='validation',\n",
    "batch_size=32,\n",
    "seed=42,\n",
    "shuffle=True,\n",
    "class_mode=\"categorical\",\n",
    "target_size=(150, 150))"
   ]
  },
  {
   "cell_type": "code",
   "execution_count": null,
   "id": "f6cc35ee-a88b-4d6d-88de-859fc877a17f",
   "metadata": {},
   "outputs": [],
   "source": [
    "num_classes = 2\n",
    "img_height = 150\n",
    "img_width = 150\n",
    "model = Sequential([\n",
    "  layers.Rescaling(1./255, input_shape=(img_height, img_width, 3)),\n",
    "  layers.Conv2D(16, 3, padding='same', activation='relu'),\n",
    "  layers.MaxPooling2D(),\n",
    "  layers.Conv2D(32, 3, padding='same', activation='relu'),\n",
    "  layers.MaxPooling2D(),\n",
    "  layers.Conv2D(64, 3, padding='same', activation='relu'),\n",
    "  layers.MaxPooling2D(),\n",
    "  layers.Flatten(),\n",
    "  layers.Dense(128, activation='relu'),\n",
    "  layers.Dense(num_classes)\n",
    "])\n",
    "\n",
    "model.compile(optimizer='adam',\n",
    "              loss='categorical_crossentropy',\n",
    "              metrics=['accuracy'])"
   ]
  },
  {
   "cell_type": "code",
   "execution_count": null,
   "id": "22bf9df3-3803-48a2-9ff8-f96afe7ffaf1",
   "metadata": {},
   "outputs": [],
   "source": [
    "batch_size=32\n",
    "model.fit(\n",
    "        train_generator,\n",
    "        steps_per_epoch=train_generator.samples // batch_size,\n",
    "        validation_data = validation_generator,\n",
    "        validation_steps = validation_generator.samples // batch_size,\n",
    "        epochs=5)"
   ]
  },
  {
   "cell_type": "code",
   "execution_count": null,
   "id": "20b78612-e0e2-447b-985c-b89abe808cd6",
   "metadata": {},
   "outputs": [],
   "source": [
    "model1= Sequential()\n",
    "model1.add(base_model) \n",
    "model1.add(Flatten())\n",
    "\n",
    "#Adding the Dense layers along with activation and batch normalization\n",
    "model1.add(Dense(1024,activation=('relu'),input_dim=512))\n",
    "\n",
    "model1.add(Dense(512,activation=('relu'))) \n",
    "model1.add(Dense(256,activation=('relu'))) \n",
    "model.add(Dropout(.3))\n",
    "model1.add(Dense(128,activation=('relu')))\n",
    "model.add(Dropout(.2))\n",
    "model1.add(Dense(2,activation=('softmax')))\n",
    "#Model summary\n",
    "model1.summary()"
   ]
  }
 ],
 "metadata": {
  "kernelspec": {
   "display_name": "Python 3 (ipykernel)",
   "language": "python",
   "name": "python3"
  },
  "language_info": {
   "codemirror_mode": {
    "name": "ipython",
    "version": 3
   },
   "file_extension": ".py",
   "mimetype": "text/x-python",
   "name": "python",
   "nbconvert_exporter": "python",
   "pygments_lexer": "ipython3",
   "version": "3.8.13"
  }
 },
 "nbformat": 4,
 "nbformat_minor": 5
}
